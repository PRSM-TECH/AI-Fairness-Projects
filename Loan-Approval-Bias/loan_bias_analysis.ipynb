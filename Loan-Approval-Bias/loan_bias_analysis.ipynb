# Loan Approval Bias Project

import pandas as pd
from fairlearn.metrics import demographic_parity_difference
from sklearn.model_selection import train_test_split
from sklearn.ensemble import RandomForestClassifier
from sklearn.metrics import accuracy_score

# Sample dataset (Loan Approval Bias)
data = {
    'Income': [50000, 70000, 30000, 80000, 20000, 100000, 60000, 40000, 15000, 90000],
    'CreditScore': [750, 800, 650, 820, 600, 850, 720, 640, 580, 810],
    'Race': ['White', 'White', 'Black', 'White', 'Black', 'White', 'White', 'Black', 'Black', 'White'],
    'Approved': [1, 1, 0, 1, 0, 1, 1, 0, 0, 1]
}
df = pd.DataFrame(data)

# Convert categorical race to numerical
df['Race'] = df['Race'].map({'White': 1, 'Black': 0})

# Splitting data
X = df[['Income', 'CreditScore', 'Race']]
y = df['Approved']
X_train, X_test, y_train, y_test = train_test_split(X, y, test_size=0.2, random_state=42)

# Train a RandomForest classifier
model = RandomForestClassifier()
model.fit(X_train, y_train)
y_pred = model.predict(X_test)

# Compute accuracy
accuracy = accuracy_score(y_test, y_pred)
print(f"Model Accuracy: {accuracy:.2f}")

# Compute fairness metric
dpd = demographic_parity_difference(y_test, y_pred, sensitive_features=X_test['Race'])
print(f"Demographic Parity Difference (Bias Measure): {dpd:.2f}")
