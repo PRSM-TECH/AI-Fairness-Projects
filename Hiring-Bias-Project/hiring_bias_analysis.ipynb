# Hiring Bias Project

import pandas as pd
from fairlearn.metrics import demographic_parity_difference
from sklearn.model_selection import train_test_split
from sklearn.linear_model import LogisticRegression
from sklearn.metrics import accuracy_score

# Sample dataset (Hiring Bias)
data = {
    'Experience': [5, 7, 3, 8, 2, 10, 6, 4, 1, 9],
    'Qualification': [1, 1, 0, 1, 0, 1, 1, 0, 0, 1],
    'Gender': ['Male', 'Male', 'Female', 'Male', 'Female', 'Male', 'Male', 'Female', 'Female', 'Male'],
    'Hired': [1, 1, 0, 1, 0, 1, 1, 0, 0, 1]
}
df = pd.DataFrame(data)

# Convert categorical gender to numerical
df['Gender'] = df['Gender'].map({'Male': 1, 'Female': 0})

# Splitting data
X = df[['Experience', 'Qualification', 'Gender']]
y = df['Hired']
X_train, X_test, y_train, y_test = train_test_split(X, y, test_size=0.2, random_state=42)

# Train a simple logistic regression model
model = LogisticRegression()
model.fit(X_train, y_train)
y_pred = model.predict(X_test)

# Compute accuracy
accuracy = accuracy_score(y_test, y_pred)
print(f"Model Accuracy: {accuracy:.2f}")

# Compute fairness metric
dpd = demographic_parity_difference(y_test, y_pred, sensitive_features=X_test['Gender'])
print(f"Demographic Parity Difference (Bias Measure): {dpd:.2f}")
