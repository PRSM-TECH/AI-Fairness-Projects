# Healthcare Bias Project

import pandas as pd
from fairlearn.metrics import demographic_parity_difference
from sklearn.model_selection import train_test_split
from sklearn.neighbors import KNeighborsClassifier
from sklearn.metrics import accuracy_score

# Sample dataset (Healthcare Bias)
data = {
    'Age': [30, 40, 25, 50, 20, 60, 35, 45, 18, 55],
    'CholesterolLevel': [180, 200, 170, 220, 160, 240, 190, 210, 150, 230],
    'Ethnicity': ['Majority', 'Majority', 'Minority', 'Majority', 'Minority', 'Majority', 'Majority', 'Minority', 'Minority', 'Majority'],
    'Diagnosed': [1, 1, 0, 1, 0, 1, 1, 0, 0, 1]
}
df = pd.DataFrame(data)

# Convert categorical ethnicity to numerical
df['Ethnicity'] = df['Ethnicity'].map({'Majority': 1, 'Minority': 0})

# Splitting data
X = df[['Age', 'CholesterolLevel', 'Ethnicity']]
y = df['Diagnosed']
X_train, X_test, y_train, y_test = train_test_split(X, y, test_size=0.2, random_state=42)

# Train a K-Nearest Neighbors classifier
model = KNeighborsClassifier()
model.fit(X_train, y_train)
y_pred = model.predict(X_test)

# Compute accuracy
accuracy = accuracy_score(y_test, y_pred)
print(f"Model Accuracy: {accuracy:.2f}")

# Compute fairness metric
dpd = demographic_parity_difference(y_test, y_pred, sensitive_features=X_test['Ethnicity'])
print(f"Demographic Parity Difference (Bias Measure): {dpd:.2f}")
